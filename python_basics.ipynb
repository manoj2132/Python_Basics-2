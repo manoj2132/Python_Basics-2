{
  "nbformat": 4,
  "nbformat_minor": 0,
  "metadata": {
    "colab": {
      "provenance": []
    },
    "kernelspec": {
      "name": "python3",
      "display_name": "Python 3"
    },
    "language_info": {
      "name": "python"
    }
  },
  "cells": [
    {
      "cell_type": "code",
      "execution_count": 1,
      "metadata": {
        "colab": {
          "base_uri": "https://localhost:8080/"
        },
        "id": "UWbvG3gwolCq",
        "outputId": "279a948b-4866-4d42-80f6-715e1421a16a"
      },
      "outputs": [
        {
          "output_type": "stream",
          "name": "stdout",
          "text": [
            "Enter a value for n: 5\n",
            "1,2,6,24,120,"
          ]
        }
      ],
      "source": [
        "def recursion(n):\n",
        "    if n == 0:\n",
        "        return 1\n",
        "    else:\n",
        "        return n * recursion(n - 1)\n",
        "\n",
        "n = int(input(\"Enter a value for n: \"))\n",
        "\n",
        "for i in range(1, n + 1):\n",
        "    print(recursion(i),end=',')\n"
      ]
    },
    {
      "cell_type": "code",
      "source": [
        "def recursion(n):\n",
        "    if n==0:\n",
        "        return 1\n",
        "    else:\n",
        "        return n*recursion(n-1)\n",
        "\n",
        "n=int(input('enter a number:'))\n",
        "\n",
        "for i in range (1,n-1):\n",
        "    if i%2!=0:\n",
        "        print(f\"{i}!={recursion (i)}\")"
      ],
      "metadata": {
        "colab": {
          "base_uri": "https://localhost:8080/"
        },
        "id": "lMX1C7jbop0x",
        "outputId": "c77d1735-666b-4060-bc10-8f1e6a859d55"
      },
      "execution_count": 2,
      "outputs": [
        {
          "output_type": "stream",
          "name": "stdout",
          "text": [
            "enter a number:5\n",
            "1!=1\n",
            "3!=6\n"
          ]
        }
      ]
    },
    {
      "cell_type": "code",
      "source": [
        "def recursion(n):\n",
        "    if n>=1:# n is greater then 1\n",
        "        recursion(n - 1) #recursive the number\n",
        "        print (n,end=\",\")# print n value\n",
        "\n",
        "n = int(input('enter a number:'))# user input\n",
        "recursion (n)\n"
      ],
      "metadata": {
        "colab": {
          "base_uri": "https://localhost:8080/"
        },
        "id": "-mLCgrP5pAR6",
        "outputId": "2dcf9bd5-4e52-45b6-cfed-8ac2ca6d7608"
      },
      "execution_count": 3,
      "outputs": [
        {
          "output_type": "stream",
          "name": "stdout",
          "text": [
            "enter a number:5\n",
            "1,2,3,4,5,"
          ]
        }
      ]
    },
    {
      "cell_type": "code",
      "source": [
        "def recursion(n):\n",
        "    if n>=1:\n",
        "        recursion(n-1)\n",
        "        if n % 2!=0:\n",
        "            print(n,end=\",\")\n",
        "\n",
        "\n",
        "n=int(input('enter a number: '))\n",
        "recursion(n)\n"
      ],
      "metadata": {
        "colab": {
          "base_uri": "https://localhost:8080/"
        },
        "id": "zuZhVZhlpcLz",
        "outputId": "7e69782b-0841-4014-ea3c-206e8ff4bc3d"
      },
      "execution_count": 4,
      "outputs": [
        {
          "output_type": "stream",
          "name": "stdout",
          "text": [
            "enter a number: 9\n",
            "1,3,5,7,9,"
          ]
        }
      ]
    },
    {
      "cell_type": "code",
      "source": [
        "def Fibonacci(n):\n",
        "    if n <= 1:\n",
        "        return n\n",
        "    else:\n",
        "        fib_prev = 0\n",
        "        fib_curr = 1\n",
        "        for i in range(2, n+1):\n",
        "            fib_next = fib_prev + fib_curr\n",
        "            fib_prev = fib_curr\n",
        "            fib_curr = fib_next\n",
        "        return fib_curr\n",
        "\n",
        "# Example usage\n",
        "print(Fibonacci(10))  # Output: 55\n"
      ],
      "metadata": {
        "colab": {
          "base_uri": "https://localhost:8080/"
        },
        "id": "v7e3GZOwpxr9",
        "outputId": "4013d62e-e9d2-4741-99f5-f54b0c062943"
      },
      "execution_count": 5,
      "outputs": [
        {
          "output_type": "stream",
          "name": "stdout",
          "text": [
            "55\n"
          ]
        }
      ]
    },
    {
      "cell_type": "code",
      "source": [
        "def palindrome():\n",
        "\n",
        "    number=int(input('enter a number :'))\n",
        "    temp=number\n",
        "    reverse=0\n",
        "    while(number>0):\n",
        "        dig=number%10\n",
        "        reverse=reverse*10+dig\n",
        "        number=number//10\n",
        "    if(reverse==temp):\n",
        "      print('it is palindrome')\n",
        "    else:\n",
        "      print('it is not a palindrome')\n",
        "palindrome()\n"
      ],
      "metadata": {
        "colab": {
          "base_uri": "https://localhost:8080/"
        },
        "id": "RFj3ESvrp2Ow",
        "outputId": "209b1f15-2871-4a8f-acd1-ec6ca4ec2525"
      },
      "execution_count": 8,
      "outputs": [
        {
          "output_type": "stream",
          "name": "stdout",
          "text": [
            "enter a number :1232\n",
            "it is not a palindrome\n"
          ]
        }
      ]
    },
    {
      "cell_type": "code",
      "source": [
        "a = int(input(\"enter 1st number\"))\n",
        "b = int(input(\"enter 2nd number\"))\n",
        "c= int(input(\"enter 3rd number\"))\n",
        "print (a,b,c)\n",
        "if ((a>b)and(a>c)):\n",
        "    {\n",
        "    print(\"a is greater\")\n",
        "    }\n",
        "elif ((b>c)and(b>a)):\n",
        "    {\n",
        "    print('b is greater')}\n",
        "else:{\n",
        "    print('c is greater')}"
      ],
      "metadata": {
        "colab": {
          "base_uri": "https://localhost:8080/"
        },
        "id": "45ruj9RFp2zD",
        "outputId": "69ceaa76-43f8-45a0-8299-bd49f1397d21"
      },
      "execution_count": 10,
      "outputs": [
        {
          "output_type": "stream",
          "name": "stdout",
          "text": [
            "enter 1st number56\n",
            "enter 2nd number78\n",
            "enter 3rd number65\n",
            "56 78 65\n",
            "b is greater\n"
          ]
        }
      ]
    },
    {
      "cell_type": "code",
      "source": [],
      "metadata": {
        "id": "YZ4MJaVQp2vd"
      },
      "execution_count": null,
      "outputs": []
    }
  ]
}